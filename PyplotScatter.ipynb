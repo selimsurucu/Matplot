{
  "nbformat": 4,
  "nbformat_minor": 0,
  "metadata": {
    "colab": {
      "name": "PyplotScatter.ipynb",
      "version": "0.3.2",
      "provenance": [],
      "include_colab_link": true
    },
    "kernelspec": {
      "name": "python3",
      "display_name": "Python 3"
    }
  },
  "cells": [
    {
      "cell_type": "markdown",
      "metadata": {
        "id": "view-in-github",
        "colab_type": "text"
      },
      "source": [
        "<a href=\"https://colab.research.google.com/github/selimsurucu/Matplot/blob/master/PyplotScatter.ipynb\" target=\"_parent\"><img src=\"https://colab.research.google.com/assets/colab-badge.svg\" alt=\"Open In Colab\"/></a>"
      ]
    },
    {
      "metadata": {
        "id": "LQiQtAMWvN0W",
        "colab_type": "code",
        "colab": {
          "base_uri": "https://localhost:8080/",
          "height": 1445
        },
        "outputId": "4767cdab-9b2c-4a6e-f32a-6ca2ee99faa3"
      },
      "cell_type": "code",
      "source": [
        "df = pd.read_csv(\"istanbul.csv\")\n",
        "print(df.head()) #sorun olup olmadığına görmek için yazdırdım."
      ],
      "execution_count": 4,
      "outputs": [
        {
          "output_type": "stream",
          "text": [
            "      id                         listing_url       scrape_id last_scraped  \\\n",
            "0   4826   https://www.airbnb.com/rooms/4826  20190218135301   2019-02-18   \n",
            "1  20815  https://www.airbnb.com/rooms/20815  20190218135301   2019-02-18   \n",
            "2  25436  https://www.airbnb.com/rooms/25436  20190218135301   2019-02-18   \n",
            "3  27271  https://www.airbnb.com/rooms/27271  20190218135301   2019-02-18   \n",
            "4  28277  https://www.airbnb.com/rooms/28277  20190218135301   2019-02-18   \n",
            "\n",
            "                                  name  \\\n",
            "0                            The Place   \n",
            "1    The Bosphorus from The Comfy Hill   \n",
            "2  House for vacation rental furnutare   \n",
            "3      LOVELY APT. IN PERFECT LOCATION   \n",
            "4       Duplex Apartment with Terrace    \n",
            "\n",
            "                                             summary  \\\n",
            "0  My place is close to great views. My place is ...   \n",
            "1  Watch The Bosphorus from The Comfy Hill. A spa...   \n",
            "2  Evimiz Bebek Koru nun içinde . Şehrin  içinde ...   \n",
            "3  This is a very nicely decorated apartment in a...   \n",
            "4                                                NaN   \n",
            "\n",
            "                                               space  \\\n",
            "0  A double bed apartment on the Asian side of Is...   \n",
            "1  The low green hills of Arnavutköy, the lovely,...   \n",
            "2  This place so popular place in Istanbul.Bospho...   \n",
            "3  My place is an authentic apartment with very h...   \n",
            "4  The first advantage to stay in our apartments ...   \n",
            "\n",
            "                                         description experiences_offered  \\\n",
            "0  My place is close to great views. My place is ...                none   \n",
            "1  Watch The Bosphorus from The Comfy Hill. A spa...                none   \n",
            "2  Evimiz Bebek Koru nun içinde . Şehrin  içinde ...                none   \n",
            "3  This is a very nicely decorated apartment in a...                none   \n",
            "4  The first advantage to stay in our apartments ...                none   \n",
            "\n",
            "                               neighborhood_overview  ... instant_bookable  \\\n",
            "0                                                NaN  ...                f   \n",
            "1  The lovely neighborhood, Arnavutkoy, is locate...  ...                f   \n",
            "2  Clean and elegand friends . U can find everyth...  ...                t   \n",
            "3  Cihangir is one of Istanbul's cosmopolitan sub...  ...                f   \n",
            "4                                                NaN  ...                t   \n",
            "\n",
            "  is_business_travel_ready          cancellation_policy  \\\n",
            "0                        f                     flexible   \n",
            "1                        f                     moderate   \n",
            "2                        f  strict_14_with_grace_period   \n",
            "3                        f                     moderate   \n",
            "4                        f  strict_14_with_grace_period   \n",
            "\n",
            "  require_guest_profile_picture require_guest_phone_verification  \\\n",
            "0                             f                                f   \n",
            "1                             t                                f   \n",
            "2                             f                                f   \n",
            "3                             f                                f   \n",
            "4                             f                                f   \n",
            "\n",
            "   calculated_host_listings_count  \\\n",
            "0                               1   \n",
            "1                               2   \n",
            "2                               1   \n",
            "3                               1   \n",
            "4                              13   \n",
            "\n",
            "   calculated_host_listings_count_entire_homes  \\\n",
            "0                                            1   \n",
            "1                                            1   \n",
            "2                                            1   \n",
            "3                                            1   \n",
            "4                                           13   \n",
            "\n",
            "  calculated_host_listings_count_private_rooms  \\\n",
            "0                                            0   \n",
            "1                                            1   \n",
            "2                                            0   \n",
            "3                                            0   \n",
            "4                                            0   \n",
            "\n",
            "   calculated_host_listings_count_shared_rooms  reviews_per_month  \n",
            "0                                            0               0.01  \n",
            "1                                            0               0.38  \n",
            "2                                            0                NaN  \n",
            "3                                            0               0.04  \n",
            "4                                            0                NaN  \n",
            "\n",
            "[5 rows x 106 columns]\n"
          ],
          "name": "stdout"
        }
      ]
    },
    {
      "metadata": {
        "id": "70v3eD7kv8Wx",
        "colab_type": "text"
      },
      "cell_type": "markdown",
      "source": [
        "pyplot'u import ediyoruz."
      ]
    },
    {
      "metadata": {
        "id": "wt60BWO2v_N9",
        "colab_type": "code",
        "colab": {}
      },
      "cell_type": "code",
      "source": [
        "import matplotlib.pyplot as plt"
      ],
      "execution_count": 0,
      "outputs": []
    },
    {
      "metadata": {
        "id": "CQ0UfmP-v0eV",
        "colab_type": "text"
      },
      "cell_type": "markdown",
      "source": [
        "scatter genelde iki kolonun karşılaştırılması için kullanılır. \n",
        "\n"
      ]
    },
    {
      "metadata": {
        "id": "J62jfv2fwLYe",
        "colab_type": "code",
        "colab": {}
      },
      "cell_type": "code",
      "source": [
        "private_room = df[df.room_type == \"Private room\"].head()\n",
        "shared_room = df[df.room_type == \"Shared room\"].head()\n",
        "entire_room = df[df.room_type == \"Entire home/apt\"].head()"
      ],
      "execution_count": 0,
      "outputs": []
    },
    {
      "metadata": {
        "id": "qtCmw4_KwfN_",
        "colab_type": "text"
      },
      "cell_type": "markdown",
      "source": [
        "private room dataframe i üzerinde ilk scatter örneğimizi yazalım"
      ]
    },
    {
      "metadata": {
        "id": "Eg9uM3ofwmDW",
        "colab_type": "code",
        "colab": {
          "base_uri": "https://localhost:8080/",
          "height": 269
        },
        "outputId": "41d9c121-dd59-4e2b-a01c-e116e299fa94"
      },
      "cell_type": "code",
      "source": [
        "plt.scatter(private_room.extra_people,private_room.price,color = \"red\",label = \"Private Room\")\n",
        "plt.legend()\n",
        "plt.show()"
      ],
      "execution_count": 10,
      "outputs": [
        {
          "output_type": "display_data",
          "data": {
            "image/png": "[encoded data removed]",
            "text/plain": [
              "<Figure size 432x288 with 1 Axes>"
            ]
          },
          "metadata": {
            "tags": []
          }
        }
      ]
    },
    {
      "metadata": {
        "id": "KJuRtvloxG7w",
        "colab_type": "text"
      },
      "cell_type": "markdown",
      "source": [
        "Şimdide tamamını ekleyelim.Scatter'in asıl güzelliği burada ortaya çıkacak :)"
      ]
    },
    {
      "metadata": {
        "id": "tAo5eibexKrp",
        "colab_type": "code",
        "colab": {
          "base_uri": "https://localhost:8080/",
          "height": 295
        },
        "outputId": "d3cd670a-7087-4773-c3a2-b101e5279180"
      },
      "cell_type": "code",
      "source": [
        "plt.scatter(private_room.extra_people,private_room.price,color = \"red\",label = \"Private Room\")\n",
        "plt.scatter(shared_room.extra_people,shared_room.price,color = \"blue\",label = \"Shared Room\")\n",
        "plt.scatter(entire_room.extra_people,entire_room.price,color = \"green\",label = \"Entire Room\")\n",
        "plt.xlabel(\"Extra People\")\n",
        "plt.ylabel(\"Price\")\n",
        "plt.title(\"Scatter Example\")\n",
        "plt.legend()\n",
        "plt.show()"
      ],
      "execution_count": 13,
      "outputs": [
        {
          "output_type": "display_data",
          "data": {
            "image/png": "[encoded data removed]",
            "text/plain": [
              "<Figure size 432x288 with 1 Axes>"
            ]
          },
          "metadata": {
            "tags": []
          }
        }
      ]
    },
    {
      "metadata": {
        "id": "s9Gf6gjtx-bM",
        "colab_type": "text"
      },
      "cell_type": "markdown",
      "source": [
        "Yukarıda görülen grafikten ne gibi anlamlar çıkartılabilir ? \n",
        "Örneğin  \n",
        "\n",
        "1.   Shared Room olan dataların extra people da ücret alınmaktadır. \n",
        "2.   price en düşük olan 100 dolar ile entire room türündeki kayıta aittir.\n",
        "\n",
        "Bu örnekler çoğaltılabilir. Ama scatter da karşılaştırma yapmak lineplotta karşılaştırma yapmaktan daha kolay olduğu görülmektedir.\n",
        "\n",
        "\n"
      ]
    }
  ]
}